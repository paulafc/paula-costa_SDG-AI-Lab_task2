{
 "cells": [
  {
   "cell_type": "markdown",
   "id": "976f68fe",
   "metadata": {},
   "source": [
    "# Preparing inputs and variables"
   ]
  },
  {
   "cell_type": "markdown",
   "id": "c12a0e45",
   "metadata": {},
   "source": [
    "## Import"
   ]
  },
  {
   "cell_type": "code",
   "execution_count": null,
   "id": "dfb2ce4f",
   "metadata": {},
   "outputs": [],
   "source": [
    "#imports\n",
    "from osgeo import gdal\n",
    "import geopandas as gpd\n",
    "import numpy as np\n",
    "import matplotlib.pyplot as plt\n",
    "import os\n",
    "import arcpy\n",
    "from arcpy import env\n",
    "from arcpy.sa import *"
   ]
  },
  {
   "cell_type": "markdown",
   "id": "9ab90b44",
   "metadata": {},
   "source": [
    "## Folder paths"
   ]
  },
  {
   "cell_type": "code",
   "execution_count": null,
   "id": "9ec73d60",
   "metadata": {},
   "outputs": [],
   "source": [
    "# Folder path\n",
    "folder_path = os.path.dirname(os.path.abspath(\"__file__\"))\n",
    "\n",
    "#import dir\n",
    "iDirname = r\"{0}\\import\".format(folder_path)\n",
    "#export dir\n",
    "eDirname = r\"{0}\\export\".format(folder_path)\n",
    "\n",
    "print(folder_path,iDirname,eDirname,sep='\\n')"
   ]
  },
  {
   "cell_type": "markdown",
   "id": "c50bb8c6",
   "metadata": {},
   "source": [
    "## Variables\n",
    "- input files\n",
    "- variables\n",
    "- output files"
   ]
  },
  {
   "cell_type": "code",
   "execution_count": null,
   "id": "b6cf2c85",
   "metadata": {},
   "outputs": [],
   "source": [
    "# inputs\n",
    "boundary_shp = iDirname+\"\\\\task1\\\\\"+\"La_palma_bounds.shp\" #admin. limits\n",
    "pop_raster = iDirname+\"\\\\JRC_GRID_2018\\\\\"+\"JRC_1K_POP_2018.tif\" # population raster data 2018\n",
    "raster_tif = iDirname+\"\\\\task1\\\\\"+\"clip_compbands_20210930.tif\"\n",
    "lavaflow_clip = iDirname+\"\\\\clip\\\\\"+\"lava_flow.shp\" # volcano lava region identified\n",
    "#print(boundary_shp)"
   ]
  },
  {
   "cell_type": "code",
   "execution_count": null,
   "id": "ffbd501b",
   "metadata": {},
   "outputs": [],
   "source": [
    "# variables\n",
    "boundary_fieldname = \"NAME_4\""
   ]
  },
  {
   "cell_type": "code",
   "execution_count": null,
   "id": "7c990e62",
   "metadata": {},
   "outputs": [],
   "source": [
    "# output\n",
    "copy_boundary_shp=eDirname+\"\\\\c_boundary.shp\"\n",
    "zonal_stats_pop_table=eDirname+\"\\\\zonal_stats_pop.dbf\"\n",
    "zonal_stats_pop_shp=eDirname+\"\\\\zs_pop.shp\"\n",
    "raster_mask=eDirname+\"\\\\mask.tif\"\n",
    "\n"
   ]
  },
  {
   "cell_type": "markdown",
   "id": "7e25b3af",
   "metadata": {},
   "source": [
    "# Set ArcGIS enviroment"
   ]
  },
  {
   "cell_type": "code",
   "execution_count": null,
   "id": "6febffdc",
   "metadata": {},
   "outputs": [],
   "source": [
    "# SET ARCGIS ENVIRONMENT\n",
    "arcpy.env.workspace = iDirname\n",
    "arcpy.env.outputCoordinateSystem = arcpy.SpatialReference(\"ETRS 1989 UTM Zone 28N\")\n",
    "# Output fields are unqualified, so the field name will not contain the origin table\n",
    "arcpy.env.qualifiedFieldNames = False\n",
    "arcpy.env.scratchWorkspace = eDirname\n",
    "#Allow for overwriting\n",
    "arcpy.env.overwriteOutput = True"
   ]
  },
  {
   "cell_type": "markdown",
   "id": "e170a467",
   "metadata": {},
   "source": [
    "# Population data analysis\n",
    "\n",
    "Process:\n",
    "- create a copy of the original shp\n",
    "- Calculate administrative boundary area in square km\n",
    "- create Statistical Zone table by population data\n",
    "- Join population to administrative limit boundary\n",
    "- Calculate density by administrative zones (mean pop/ area)\n",
    "\n",
    "Visualize data"
   ]
  },
  {
   "cell_type": "markdown",
   "id": "8a700826",
   "metadata": {},
   "source": [
    "## Process"
   ]
  },
  {
   "cell_type": "markdown",
   "id": "a21d8c56",
   "metadata": {},
   "source": [
    "### create feature copy"
   ]
  },
  {
   "cell_type": "code",
   "execution_count": null,
   "id": "0ad2cde1",
   "metadata": {},
   "outputs": [],
   "source": [
    "# copy shapefile to export folder\n",
    "arcpy.CopyFeatures_management(boundary_shp, copy_boundary_shp)\n",
    "print(\"copy of the boundary completed\")"
   ]
  },
  {
   "cell_type": "markdown",
   "id": "b959adad",
   "metadata": {},
   "source": [
    "### Calculate boundary area (square km)"
   ]
  },
  {
   "cell_type": "code",
   "execution_count": null,
   "id": "4c445b0a",
   "metadata": {},
   "outputs": [],
   "source": [
    "# add field area\n",
    "arcpy.management.AddField(copy_boundary_shp, \"area\", \"DOUBLE\")\n",
    "arcpy.management.AddField(copy_boundary_shp, \"den_pop\", \"DOUBLE\")\n",
    "print(\"created field area\")\n",
    "field_names = [f.name for f in arcpy.ListFields(copy_boundary_shp)]\n",
    "print(field_names)\n",
    "\n",
    "# calculate area\n",
    "expression1 = \"{0}\".format(\"!SHAPE.area@SQUAREKILOMETERS!\")        \n",
    "arcpy.CalculateField_management(copy_boundary_shp, \"area\", expression1, \"PYTHON\", )\n",
    "print(\"calculated area finished\")"
   ]
  },
  {
   "cell_type": "markdown",
   "id": "d6184ab6",
   "metadata": {},
   "source": [
    "### Statistical Zone"
   ]
  },
  {
   "cell_type": "code",
   "execution_count": null,
   "id": "00e44a34",
   "metadata": {},
   "outputs": [],
   "source": [
    "# Execute ZonalStatisticsAsTable\n",
    "ZonalStatisticsAsTable(copy_boundary_shp, boundary_fieldname, pop_raster, \n",
    "                                 zonal_stats_pop_table, \"\", \"ALL\", \"CURRENT_SLICE\")\n",
    "print(\"statistical zone table finished\")"
   ]
  },
  {
   "cell_type": "markdown",
   "id": "4d67a44a",
   "metadata": {},
   "source": [
    "### Join statistic data to boundary and export shp"
   ]
  },
  {
   "cell_type": "code",
   "execution_count": null,
   "id": "469e28cc",
   "metadata": {},
   "outputs": [],
   "source": [
    "# Add join\n",
    "fcjoin=arcpy.management.AddJoin(copy_boundary_shp, boundary_fieldname, zonal_stats_pop_table, boundary_fieldname)\n",
    "field_names = [f.name for f in arcpy.ListFields(fcjoin)]\n",
    "print(field_names)\n"
   ]
  },
  {
   "cell_type": "code",
   "execution_count": null,
   "id": "566d882f",
   "metadata": {},
   "outputs": [],
   "source": [
    "# export feature with join\n",
    "arcpy.CopyFeatures_management(fcjoin, zonal_stats_pop_shp)\n",
    "print(\"Join and export feature finished\")"
   ]
  },
  {
   "cell_type": "markdown",
   "id": "0ca186a5",
   "metadata": {},
   "source": [
    "## Density calculation and Visualization"
   ]
  },
  {
   "cell_type": "code",
   "execution_count": null,
   "id": "f4fe93ba",
   "metadata": {},
   "outputs": [],
   "source": [
    "# calculate density\n",
    "arcpy.management.CalculateField(zonal_stats_pop_shp, 'den_pop', \"$feature.MEAN / $feature.area\", \"ARCADE\")"
   ]
  },
  {
   "cell_type": "code",
   "execution_count": null,
   "id": "78884624",
   "metadata": {},
   "outputs": [],
   "source": [
    "# read shp on geopandas\n",
    "shapefile = gpd.read_file(zonal_stats_pop_shp)"
   ]
  },
  {
   "cell_type": "code",
   "execution_count": null,
   "id": "7348a269",
   "metadata": {},
   "outputs": [],
   "source": [
    "# plot map\n",
    "fig,ax = plt.subplots(figsize=(10,10))\n",
    "shapefile.plot(ax=ax, column=\"den_pop\", cmap=\"Blue\")\n",
    "ax.axis(\"off\")\n"
   ]
  },
  {
   "cell_type": "markdown",
   "id": "e13381ed",
   "metadata": {},
   "source": [
    "# Lava flow\n",
    "- band composition and visualisation to identify lava flow\n",
    "- Create mask: extract pixels value to quantify area of lava flow"
   ]
  },
  {
   "cell_type": "code",
   "execution_count": null,
   "id": "32af6f99",
   "metadata": {},
   "outputs": [],
   "source": [
    "def normalize_MinMax(x):\n",
    "    return((x-np.nanmin(x))/(np.nanmax(x)-np.nanmin(x)))"
   ]
  },
  {
   "cell_type": "markdown",
   "id": "9daba096",
   "metadata": {},
   "source": [
    "## create band composition"
   ]
  },
  {
   "cell_type": "code",
   "execution_count": null,
   "id": "13004c7d",
   "metadata": {},
   "outputs": [],
   "source": [
    "ds= gdal.Open(raster_tif)\n",
    "b4=ds.GetRasterBand(3).ReadAsArray()\n",
    "#b8=ds.GetRasterBand(4).ReadAsArray()\n",
    "b11=ds.GetRasterBand(5).ReadAsArray()\n",
    "\n",
    "b4 = normalize_MinMax(b4)\n",
    "#b8 = normalize_MinMax(b8)\n",
    "b11 = normalize_MinMax(b11)\n",
    "ds= None"
   ]
  },
  {
   "cell_type": "markdown",
   "id": "194f4bd2",
   "metadata": {},
   "source": [
    "## print map of raster band composition"
   ]
  },
  {
   "cell_type": "code",
   "execution_count": null,
   "id": "b664f4b9",
   "metadata": {},
   "outputs": [],
   "source": [
    "b_comp=np.dstack((b11,b11,b4))\n",
    "#plt.imshow(b_comp)\n",
    "#plt.show()\n",
    "\n",
    "# zoom to region\n",
    "plt.imshow(b_comp)\n",
    "plt.xlim(700, 1700)\n",
    "plt.ylim(3000,2400)\n",
    "plt.show()"
   ]
  },
  {
   "cell_type": "markdown",
   "id": "63032eee",
   "metadata": {},
   "source": [
    "## Extract area of lava flow\n",
    "- read band 11 from tiff\n",
    "- clip the area of the lava using a shapefile to avoid getting cloud pixels\n",
    "- extract the lava flow area by extracting pixel values grater then 7000 and export mask as tif"
   ]
  },
  {
   "cell_type": "code",
   "execution_count": null,
   "id": "1fecb24d",
   "metadata": {},
   "outputs": [],
   "source": [
    "# read b11\n",
    "b11_tif=arcpy.management.MakeRasterLayer(raster_tif, \"rdlayer\", \"\", \"\", \"5\")\n",
    "# clip image area\n",
    "b11_tif_clip=ExtractByMask(b11_tif, lavaflow_clip)\n",
    "# extract by atributed and save maska s tiff\n",
    "attExtract=ExtractByAttributes(b11_tif_clip, \"VALUE > 7000\")\n",
    "attExtract.save(raster_mask)"
   ]
  },
  {
   "cell_type": "markdown",
   "id": "34b19fa5",
   "metadata": {},
   "source": [
    "### Calculate lava flow area\n",
    "- I was not able to calculate the area.\n",
    "- This was done manually by opening the mask on GIS software and checking atribute table to get the number of pixels.\n",
    "\n",
    "#### Area\n",
    "Total number of pixels = 1123\n",
    "pixel size = 10m\n",
    "Lava flow area = 1123 x 100sqm = 112,300 sqm = 0.1123 sqkm"
   ]
  },
  {
   "cell_type": "code",
   "execution_count": null,
   "id": "de949b7c",
   "metadata": {},
   "outputs": [],
   "source": [
    "# failed attempt to calculate area by counting number of pixels\n",
    "raster_numpy_array = arcpy.RasterToNumPyArray(attExtract)\n",
    "cnt_value = numpy.count_nonzero(raster_numpy_array,) \n",
    "print(cnt_value)"
   ]
  }
 ],
 "metadata": {
  "kernelspec": {
   "display_name": "Python 3",
   "language": "python",
   "name": "python3"
  },
  "language_info": {
   "codemirror_mode": {
    "name": "ipython",
    "version": 3
   },
   "file_extension": ".py",
   "mimetype": "text/x-python",
   "name": "python",
   "nbconvert_exporter": "python",
   "pygments_lexer": "ipython3",
   "version": "3.9.11"
  }
 },
 "nbformat": 4,
 "nbformat_minor": 5
}
